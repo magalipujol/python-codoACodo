{
 "cells": [
  {
   "cell_type": "code",
   "execution_count": 3,
   "metadata": {},
   "outputs": [
    {
     "name": "stdout",
     "output_type": "stream",
     "text": [
      "Hello World\n"
     ]
    }
   ],
   "source": [
    "# 1. Escribe un programa muestre por pantalla “Hello World”. \n",
    "def sayHelloWorld():\n",
    "    print('Hello World')\n",
    "sayHelloWorld()"
   ]
  },
  {
   "cell_type": "code",
   "execution_count": 4,
   "metadata": {},
   "outputs": [
    {
     "data": {
      "text/plain": [
       "8"
      ]
     },
     "execution_count": 4,
     "metadata": {},
     "output_type": "execute_result"
    }
   ],
   "source": [
    "# 2. Escribe un programa que escriba en la pantalla el resultado de sumar 3 + 5\n",
    "def sumFunction(*args):\n",
    "    return sum(args)\n",
    "sumFunction(3, 5)"
   ]
  },
  {
   "cell_type": "code",
   "execution_count": 5,
   "metadata": {},
   "outputs": [
    {
     "data": {
      "text/plain": [
       "'hola gugi'"
      ]
     },
     "execution_count": 5,
     "metadata": {},
     "output_type": "execute_result"
    }
   ],
   "source": [
    "# 3. Escribe un programa que pida el nombre del usuario y escriba un texto que \n",
    "# diga “Hola nombreUsuario” \n",
    "def saludar(nombre):\n",
    "    return 'hola ' + nombre\n",
    "saludar('gugi')"
   ]
  },
  {
   "cell_type": "code",
   "execution_count": 6,
   "metadata": {},
   "outputs": [
    {
     "data": {
      "text/plain": [
       "5"
      ]
     },
     "execution_count": 6,
     "metadata": {},
     "output_type": "execute_result"
    }
   ],
   "source": [
    "# 4. Escribe un programa que pida un número, pida otro número y escriba el \n",
    "# resultado de sumar estos dos números\n",
    "def preguntarYSumar():\n",
    "    num1 = int(input())\n",
    "    num2 = int(input())\n",
    "    return sumFunction(num1, num2)\n",
    "preguntarYSumar()"
   ]
  },
  {
   "cell_type": "code",
   "execution_count": 7,
   "metadata": {},
   "outputs": [
    {
     "name": "stdout",
     "output_type": "stream",
     "text": [
      "4\n"
     ]
    }
   ],
   "source": [
    "# 5. programa que pida dos números y escriba en la pantalla cual es el \n",
    "# mayor.\n",
    "def encontrarMayorNumero(num1, num2):\n",
    "    print(num1) if num1 > num2 else print(num2)\n",
    "encontrarMayorNumero(2, 4)"
   ]
  },
  {
   "cell_type": "code",
   "execution_count": 8,
   "metadata": {},
   "outputs": [
    {
     "name": "stdout",
     "output_type": "stream",
     "text": [
      "5\n"
     ]
    }
   ],
   "source": [
    "# 6. Escribe un programa que pida 3 números y escriba en la pantalla el mayor de \n",
    "# los tres. \n",
    "num1 = 5\n",
    "num2 = 4.6\n",
    "num3 = 4\n",
    "if num3 < num1 > num2:\n",
    "    print(num1)\n",
    "elif num2 > num3: \n",
    "    print(num2)\n",
    "else: \n",
    "    print(num3)"
   ]
  },
  {
   "cell_type": "code",
   "execution_count": 9,
   "metadata": {},
   "outputs": [
    {
     "name": "stdout",
     "output_type": "stream",
     "text": [
      "es impar\n"
     ]
    },
    {
     "data": {
      "text/plain": [
       "False"
      ]
     },
     "execution_count": 9,
     "metadata": {},
     "output_type": "execute_result"
    }
   ],
   "source": [
    "# 7. Escribe un programa que pida un número y diga si es divisible por 2 \n",
    "print('es par') if (not num2 % 2) else print('es impar')\n",
    "def esDivisor(divisor, num):\n",
    "    return (not num % divisor)\n",
    "esDivisor(2, 6)\n",
    "esDivisor(2, 3)"
   ]
  },
  {
   "cell_type": "code",
   "execution_count": 10,
   "metadata": {},
   "outputs": [
    {
     "data": {
      "text/plain": [
       "[2, 7]"
      ]
     },
     "execution_count": 10,
     "metadata": {},
     "output_type": "execute_result"
    }
   ],
   "source": [
    "# 9. Escribe un programa que pida un número y nos diga si es divisible por 2, 3, 5 o 7\n",
    "def buscarDivisoresEntrePrimos2a7(num):\n",
    "    return [divisor for divisor in [2, 3, 5, 7] if esDivisor(divisor, num)]\n",
    "    divisores = []\n",
    "    for divisor in [2, 3, 5, 7]:\n",
    "        if esDivisor(divisor, num): divisores.append(divisor)\n",
    "    return divisores\n",
    "buscarDivisoresEntrePrimos2a7(14)"
   ]
  },
  {
   "cell_type": "code",
   "execution_count": 11,
   "metadata": {},
   "outputs": [
    {
     "data": {
      "text/plain": [
       "[1, 2, 4, 11, 22, 44]"
      ]
     },
     "execution_count": 11,
     "metadata": {},
     "output_type": "execute_result"
    }
   ],
   "source": [
    "# 10. Escribir un programa que escriba en pantalla los divisores de un número dado\n",
    "def buscarDivisores(num):\n",
    "    return [divisor for divisor in range(1, num + 1) if esDivisor(divisor, num)]\n",
    "buscarDivisores(44)"
   ]
  },
  {
   "cell_type": "code",
   "execution_count": 12,
   "metadata": {},
   "outputs": [
    {
     "name": "stdout",
     "output_type": "stream",
     "text": [
      "no es primo\n"
     ]
    }
   ],
   "source": [
    "# 11. Escribir un programa que nos diga si un número dado es primo\n",
    "print('es primo') if len(buscarDivisores(8)) == 2 else print('no es primo')"
   ]
  },
  {
   "cell_type": "code",
   "execution_count": 5,
   "metadata": {},
   "outputs": [
    {
     "data": {
      "text/plain": [
       "'Nota inválida'"
      ]
     },
     "execution_count": 5,
     "metadata": {},
     "output_type": "execute_result"
    }
   ],
   "source": [
    "# 12. Pide una nota (número). Muestra la calificación según la nota\n",
    "def calificar(nota):\n",
    "    if (nota < 0 or nota > 10): return 'Nota inválida'\n",
    "    elif (nota < 3): return 'Muy deficiente'\n",
    "    elif (nota >= 3 and nota < 5): return 'Insuficiente'\n",
    "    elif (nota >= 5 and nota < 6): return 'Insuficiente'\n",
    "    elif (nota >= 5 and nota < 7): return 'Insuficiente'\n",
    "    elif (nota >= 7 and nota < 9): return 'Insuficiente'\n",
    "    else: return 'Sobresaliente'\n",
    "\n",
    "calificar(-4)\n",
    "\n"
   ]
  },
  {
   "cell_type": "code",
   "execution_count": 13,
   "metadata": {},
   "outputs": [
    {
     "name": "stdout",
     "output_type": "stream",
     "text": [
      "\n",
      "1\n",
      "22\n",
      "333\n",
      "4444\n",
      "55555\n",
      "666666\n",
      "7777777\n"
     ]
    }
   ],
   "source": [
    "# 13. realiza un programa que escriba una pirámide del 1 al 30\n",
    "def escribirPiramide(base):\n",
    "    for n in range(base + 1):\n",
    "        print(str(n) * n)\n",
    "escribirPiramide(7)\n"
   ]
  },
  {
   "cell_type": "code",
   "execution_count": 24,
   "metadata": {},
   "outputs": [
    {
     "name": "stdout",
     "output_type": "stream",
     "text": [
      "333\n",
      "22\n",
      "1\n",
      "\n"
     ]
    }
   ],
   "source": [
    "# 14. Haz un programa que escriba una pirámide inversa de los números del 1 al \n",
    "# número que indique el usuario\n",
    "def escribirPiramideInvertida(techo): \n",
    "    for n in reversed(range(techo)): \n",
    "         print(str(n) * n)\n",
    "escribirPiramideInvertida(4)"
   ]
  },
  {
   "cell_type": "code",
   "execution_count": 33,
   "metadata": {},
   "outputs": [
    {
     "name": "stdout",
     "output_type": "stream",
     "text": [
      "1\n",
      "2\n",
      "3\n",
      "4 multiplo de 4\n",
      "5\n",
      "-------------\n",
      "6\n",
      "7\n",
      "8 multiplo de 4\n",
      "9 multiplo de 9\n",
      "10\n",
      "-------------\n"
     ]
    }
   ],
   "source": [
    "# Crear un programa que escriba los números del 1 al 500, y que indique cuales \n",
    "# son múltiplos de 4 y de 9 y que cada 5 líneas muestre una línea horizontal.\n",
    "def multiplosDe4y9DesdeHasta(desde, hasta):\n",
    "    aux = ''\n",
    "    for n in range(desde, hasta + 1):\n",
    "        aux += str(n)\n",
    "        if(n % 4 == 0):\n",
    "            aux += ' multiplo de 4'\n",
    "        if(n % 9 == 0):\n",
    "            aux += ' multiplo de 9'\n",
    "        print(aux)\n",
    "        if(n % 5 == 0):\n",
    "            print('-------------')\n",
    "        aux = ''\n",
    "multiplosDe4y9DesdeHasta(1, 10)"
   ]
  }
 ],
 "metadata": {
  "interpreter": {
   "hash": "ebcbc878a1899eda606ad08f40de9476992504d8a7fd53b531314c2639a15af7"
  },
  "kernelspec": {
   "display_name": "Python 3.9.5 64-bit",
   "name": "python3"
  },
  "language_info": {
   "codemirror_mode": {
    "name": "ipython",
    "version": 3
   },
   "file_extension": ".py",
   "mimetype": "text/x-python",
   "name": "python",
   "nbconvert_exporter": "python",
   "pygments_lexer": "ipython3",
   "version": "3.9.5"
  },
  "orig_nbformat": 4
 },
 "nbformat": 4,
 "nbformat_minor": 2
}
